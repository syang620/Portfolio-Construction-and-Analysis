{
 "cells": [
  {
   "cell_type": "code",
   "execution_count": 1,
   "id": "b2c29b6d",
   "metadata": {},
   "outputs": [],
   "source": [
    "import numpy as np\n",
    "import pandas as pd\n",
    "\n",
    "import edhec_risk_kit_206 as erk\n",
    "\n",
    "%load_ext autoreload\n",
    "%autoreload 2"
   ]
  },
  {
   "cell_type": "code",
   "execution_count": 3,
   "id": "d0c35903",
   "metadata": {},
   "outputs": [],
   "source": [
    "# inds = ['Food', 'Beer', 'Smoke', 'Games', 'Books', 'Hshld', 'Clths', 'Hlth',\n",
    "#        'Chems', 'Txtls', 'Cnstr', 'Steel', 'FabPr', 'ElcEq', 'Autos', 'Carry',\n",
    "#        'Mines', 'Coal', 'Oil', 'Util', 'Telcm', 'Servs', 'BusEq', 'Paper',\n",
    "#        'Trans', 'Whlsl', 'Rtail', 'Meals', 'Fin', 'Other']\n",
    "\n",
    "# inds=['Beer', 'Hlth', 'Fin','Rtail','Whlsl']\n",
    "\n",
    "ind_rets = erk.get_ind_returns(weighting=\"vw\", n_inds=49)[\"1974\":]\n",
    "ind_mcap = erk.get_ind_market_caps(49, weights=True)[\"1974\":]\n",
    "\n",
    "rets = ind_rets[\"2014\":]\n",
    "mcap = ind_mcap[\"2014\":]\n",
    "weights = mcap.iloc[0]\n",
    "cov = rets.cov()"
   ]
  },
  {
   "cell_type": "code",
   "execution_count": 4,
   "id": "1cbd1ab1",
   "metadata": {},
   "outputs": [],
   "source": [
    "def risk_contribution(w,cov):\n",
    "    \"\"\"\n",
    "    Compute the contributions to risk of the constituents of a portfolio, given a set of portfolio weights and a covariance matrix\n",
    "    \"\"\"\n",
    "    total_portfolio_var = erk.portfolio_vol(w,cov)**2\n",
    "    # Marginal contribution of each constituent\n",
    "    marginal_contrib = cov@w\n",
    "    risk_contrib = np.multiply(marginal_contrib,w.T)/total_portfolio_var\n",
    "    return risk_contrib"
   ]
  },
  {
   "cell_type": "markdown",
   "id": "6c9b644b",
   "metadata": {},
   "source": [
    "#### q1.  & q2"
   ]
  },
  {
   "cell_type": "code",
   "execution_count": 10,
   "id": "fd7ba804",
   "metadata": {},
   "outputs": [
    {
     "data": {
      "text/plain": [
       "Banks    0.104060\n",
       "Softw    0.093745\n",
       "Oil      0.088914\n",
       "Drugs    0.084653\n",
       "Rtail    0.070120\n",
       "dtype: float64"
      ]
     },
     "execution_count": 10,
     "metadata": {},
     "output_type": "execute_result"
    }
   ],
   "source": [
    "risk_contrib = risk_contribution(weights, cov)\n",
    "risk_contrib.sort_values(ascending=False).head()"
   ]
  },
  {
   "cell_type": "markdown",
   "id": "2fb7654d",
   "metadata": {},
   "source": [
    "#### q3."
   ]
  },
  {
   "cell_type": "code",
   "execution_count": 11,
   "id": "2781e593",
   "metadata": {},
   "outputs": [
    {
     "data": {
      "text/plain": [
       "Steel    0.030938\n",
       "Ships    0.030005\n",
       "Coal     0.029025\n",
       "Mines    0.028641\n",
       "BldMt    0.028106\n",
       "dtype: float64"
      ]
     },
     "execution_count": 11,
     "metadata": {},
     "output_type": "execute_result"
    }
   ],
   "source": [
    "risk_contribution(erk.weight_ew(rets),cov).sort_values(ascending=False).head()"
   ]
  },
  {
   "cell_type": "code",
   "execution_count": 12,
   "id": "56e03c35",
   "metadata": {},
   "outputs": [],
   "source": [
    "from scipy.optimize import minimize\n",
    "\n",
    "def target_risk_contributions(target_risk, cov):\n",
    "    \"\"\"\n",
    "    Returns the weights of the portfolio that gives you the weights such\n",
    "    that the contributions to portfolio risk are as close as possible to\n",
    "    the target_risk, given the covariance matrix\n",
    "    \"\"\"\n",
    "    n = cov.shape[0]\n",
    "    init_guess = np.repeat(1/n, n)\n",
    "    bounds = ((0.0, 1.0),) * n # an N-tuple of 2-tuples!\n",
    "    # construct the constraints\n",
    "    weights_sum_to_1 = {'type': 'eq',\n",
    "                        'fun': lambda weights: np.sum(weights) - 1\n",
    "    }\n",
    "    def msd_risk(weights, target_risk, cov):\n",
    "        \"\"\"\n",
    "        Returns the Mean Squared Difference in risk contributions\n",
    "        between weights and target_risk\n",
    "        \"\"\"\n",
    "        w_contribs = risk_contribution(weights, cov)\n",
    "        return ((w_contribs-target_risk)**2).sum()\n",
    "    \n",
    "    weights = minimize(msd_risk, init_guess,\n",
    "                       args=(target_risk, cov), method='SLSQP',\n",
    "                       options={'disp': False},\n",
    "                       constraints=(weights_sum_to_1,),\n",
    "                       bounds=bounds)\n",
    "    return weights.x\n",
    "\n",
    "def equal_risk_contributions(cov):\n",
    "    \"\"\"\n",
    "    Returns the weights of the portfolio that equalizes the contributions\n",
    "    of the constituents based on the given covariance matrix\n",
    "    \"\"\"\n",
    "    n = cov.shape[0]\n",
    "    return target_risk_contributions(target_risk=np.repeat(1/n,n), cov=cov)\n"
   ]
  },
  {
   "cell_type": "code",
   "execution_count": 16,
   "id": "817a851e",
   "metadata": {},
   "outputs": [
    {
     "data": {
      "text/plain": [
       "Util     0.052156\n",
       "Hshld    0.033184\n",
       "Smoke    0.032606\n",
       "dtype: float64"
      ]
     },
     "execution_count": 16,
     "metadata": {},
     "output_type": "execute_result"
    }
   ],
   "source": [
    "erc_weights = pd.Series(equal_risk_contributions(cov), index=cov.index)\n",
    "erc_weights.sort_values(ascending=False).head(3)"
   ]
  },
  {
   "cell_type": "code",
   "execution_count": 19,
   "id": "3dd645d6",
   "metadata": {},
   "outputs": [
    {
     "data": {
      "text/plain": [
       "Steel    0.012809\n",
       "Ships    0.013041\n",
       "BldMt    0.013790\n",
       "dtype: float64"
      ]
     },
     "execution_count": 19,
     "metadata": {},
     "output_type": "execute_result"
    }
   ],
   "source": [
    "erc_weights.sort_values(ascending=True).head(3)"
   ]
  },
  {
   "cell_type": "code",
   "execution_count": 21,
   "id": "af8a91b1",
   "metadata": {},
   "outputs": [
    {
     "data": {
      "text/plain": [
       "0.1039644943981684"
      ]
     },
     "execution_count": 21,
     "metadata": {},
     "output_type": "execute_result"
    }
   ],
   "source": [
    "sorted(risk_contrib)[-1] - sorted(risk_contrib)[0]"
   ]
  },
  {
   "cell_type": "code",
   "execution_count": 24,
   "id": "9eb8ce8e",
   "metadata": {},
   "outputs": [
    {
     "data": {
      "text/plain": [
       "2.5021757624911465"
      ]
     },
     "execution_count": 24,
     "metadata": {},
     "output_type": "execute_result"
    }
   ],
   "source": [
    "ew_rc = risk_contribution(erk.weight_ew(rets),cov)\n",
    "(sorted(ew_rc)[-1]-sorted(ew_rc)[0])*100"
   ]
  },
  {
   "cell_type": "code",
   "execution_count": null,
   "id": "1181ef87",
   "metadata": {},
   "outputs": [],
   "source": []
  }
 ],
 "metadata": {
  "kernelspec": {
   "display_name": "Python 3",
   "language": "python",
   "name": "python3"
  },
  "language_info": {
   "codemirror_mode": {
    "name": "ipython",
    "version": 3
   },
   "file_extension": ".py",
   "mimetype": "text/x-python",
   "name": "python",
   "nbconvert_exporter": "python",
   "pygments_lexer": "ipython3",
   "version": "3.8.8"
  }
 },
 "nbformat": 4,
 "nbformat_minor": 5
}
