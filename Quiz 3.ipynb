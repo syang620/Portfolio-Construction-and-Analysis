{
 "cells": [
  {
   "cell_type": "code",
   "execution_count": 12,
   "id": "a719cd71",
   "metadata": {},
   "outputs": [],
   "source": [
    "import numpy as np\n",
    "import pandas as pd\n",
    "import edhec_risk_kit_206 as erk\n",
    "\n",
    "from numpy.linalg import inv"
   ]
  },
  {
   "cell_type": "code",
   "execution_count": 56,
   "id": "c3caf02a",
   "metadata": {},
   "outputs": [
    {
     "data": {
      "text/html": [
       "<div>\n",
       "<style scoped>\n",
       "    .dataframe tbody tr th:only-of-type {\n",
       "        vertical-align: middle;\n",
       "    }\n",
       "\n",
       "    .dataframe tbody tr th {\n",
       "        vertical-align: top;\n",
       "    }\n",
       "\n",
       "    .dataframe thead th {\n",
       "        text-align: right;\n",
       "    }\n",
       "</style>\n",
       "<table border=\"1\" class=\"dataframe\">\n",
       "  <thead>\n",
       "    <tr style=\"text-align: right;\">\n",
       "      <th></th>\n",
       "      <th>Hlth</th>\n",
       "      <th>Fin</th>\n",
       "      <th>Whlsl</th>\n",
       "      <th>Rtail</th>\n",
       "      <th>Food</th>\n",
       "    </tr>\n",
       "  </thead>\n",
       "  <tbody>\n",
       "    <tr>\n",
       "      <th>2013-01</th>\n",
       "      <td>0.0966</td>\n",
       "      <td>0.1300</td>\n",
       "      <td>0.0646</td>\n",
       "      <td>0.0541</td>\n",
       "      <td>0.0754</td>\n",
       "    </tr>\n",
       "    <tr>\n",
       "      <th>2013-02</th>\n",
       "      <td>0.0078</td>\n",
       "      <td>0.0177</td>\n",
       "      <td>0.0207</td>\n",
       "      <td>0.0061</td>\n",
       "      <td>0.0483</td>\n",
       "    </tr>\n",
       "    <tr>\n",
       "      <th>2013-03</th>\n",
       "      <td>0.0591</td>\n",
       "      <td>0.0360</td>\n",
       "      <td>0.0325</td>\n",
       "      <td>0.0477</td>\n",
       "      <td>0.0798</td>\n",
       "    </tr>\n",
       "  </tbody>\n",
       "</table>\n",
       "</div>"
      ],
      "text/plain": [
       "           Hlth     Fin   Whlsl   Rtail    Food\n",
       "2013-01  0.0966  0.1300  0.0646  0.0541  0.0754\n",
       "2013-02  0.0078  0.0177  0.0207  0.0061  0.0483\n",
       "2013-03  0.0591  0.0360  0.0325  0.0477  0.0798"
      ]
     },
     "execution_count": 56,
     "metadata": {},
     "output_type": "execute_result"
    }
   ],
   "source": [
    "ind49_rets = erk.get_ind_returns(weighting=\"vw\", n_inds=49)[\"2013\":]\n",
    "ind49_mcap = erk.get_ind_market_caps(49, weights=True)[\"2013\":]\n",
    "inds = ['Hlth', 'Fin', 'Whlsl', 'Rtail', 'Food']\n",
    "rho_ = pd.DataFrame(ind49_rets[inds].corr(),\n",
    "                    index=inds, columns=inds)\n",
    "vols_ = (ind49_rets[inds].std()*np.sqrt(12))    \n",
    "sigma_prior_ =  (vols_.T).dot(vols_) * rho_\n",
    "\n",
    "ind49_ret.head(3)"
   ]
  },
  {
   "cell_type": "code",
   "execution_count": 127,
   "id": "c2dd523f",
   "metadata": {},
   "outputs": [
    {
     "data": {
      "text/html": [
       "<div>\n",
       "<style scoped>\n",
       "    .dataframe tbody tr th:only-of-type {\n",
       "        vertical-align: middle;\n",
       "    }\n",
       "\n",
       "    .dataframe tbody tr th {\n",
       "        vertical-align: top;\n",
       "    }\n",
       "\n",
       "    .dataframe thead th {\n",
       "        text-align: right;\n",
       "    }\n",
       "</style>\n",
       "<table border=\"1\" class=\"dataframe\">\n",
       "  <thead>\n",
       "    <tr style=\"text-align: right;\">\n",
       "      <th></th>\n",
       "      <th>Hlth</th>\n",
       "      <th>Fin</th>\n",
       "      <th>Whlsl</th>\n",
       "      <th>Rtail</th>\n",
       "      <th>Food</th>\n",
       "    </tr>\n",
       "  </thead>\n",
       "  <tbody>\n",
       "    <tr>\n",
       "      <th>0</th>\n",
       "      <td>0.041663</td>\n",
       "      <td>0.175362</td>\n",
       "      <td>0.097411</td>\n",
       "      <td>0.546388</td>\n",
       "      <td>0.139176</td>\n",
       "    </tr>\n",
       "  </tbody>\n",
       "</table>\n",
       "</div>"
      ],
      "text/plain": [
       "       Hlth       Fin     Whlsl     Rtail      Food\n",
       "0  0.041663  0.175362  0.097411  0.546388  0.139176"
      ]
     },
     "execution_count": 127,
     "metadata": {},
     "output_type": "execute_result"
    }
   ],
   "source": [
    "w = ind49_mcap[inds].head(1).values.squeeze()\n",
    "w = w / np.sum(w)\n",
    "weights = pd.DataFrame(\n",
    "    w,\n",
    "    index = inds).T\n",
    "\n",
    "weights"
   ]
  },
  {
   "cell_type": "code",
   "execution_count": 97,
   "id": "92652beb",
   "metadata": {},
   "outputs": [],
   "source": [
    "def sample_cov(r, **kwargs):\n",
    "    \"\"\"\n",
    "    Returns the sample covariance of the supplied returns\n",
    "    \"\"\"\n",
    "    return r.cov()\n",
    "\n",
    "def implied_returns(sigma, w, delta = 2.5):\n",
    "    '''\n",
    "    sigma:  VCV matrix\n",
    "    w: portfolio weights\n",
    "    delta: risk aversion coef(scalar)\n",
    "    '''\n",
    "    ir = delta * sigma.dot(w).squeeze()\n",
    "    ir.name = 'Implied return'\n",
    "    return ir"
   ]
  },
  {
   "cell_type": "code",
   "execution_count": 13,
   "id": "b9fa17f9",
   "metadata": {},
   "outputs": [],
   "source": [
    "def proportional_prior(sigma, tau, p):\n",
    "    '''\n",
    "    Returns the He-Litterman simplified Omega, which is a \n",
    "        P x P matrix representing prior certainties\n",
    "    Sigma: N x N Cov matrix\n",
    "    tau: scalar\n",
    "    p: K x N df linking Q and assets\n",
    "    '''\n",
    "    helit_omega = p.dot(tau*sigma).dot(p.T)\n",
    "    return pd.DataFrame(np.diag(np.diag(helit_omega.values)), index = p.index, columns=p.index)"
   ]
  },
  {
   "cell_type": "code",
   "execution_count": 88,
   "id": "27c065a8",
   "metadata": {},
   "outputs": [],
   "source": [
    "# for convenience and readability, define the inverse of a dataframe\n",
    "def inverse(d):\n",
    "    \"\"\"\n",
    "    Invert the dataframe by inverting the underlying matrix\n",
    "    \"\"\"\n",
    "    return pd.DataFrame(inv(d.values), index=d.columns, columns=d.index)\n",
    "\n",
    "def w_msr(sigma, mu, scale=True):\n",
    "    \"\"\"\n",
    "    Optimal (Tangent/Max Sharpe Ratio) Portfolio weights\n",
    "    by using the Markowitz Optimization Procedure\n",
    "    Mu is the vector of Excess expected Returns\n",
    "    Sigma must be an N x N matrix as a DataFrame and Mu a column vector as a Series\n",
    "    This implements page 188 Equation 5.2.28 of\n",
    "    \"The econometrics of financial markets\" Campbell, Lo and Mackinlay.\n",
    "    \"\"\"\n",
    "    w = inverse(sigma).dot(mu)\n",
    "    if scale:\n",
    "        w = w/sum(w) # fix: this assumes all w is +ve\n",
    "    return w"
   ]
  },
  {
   "cell_type": "code",
   "execution_count": 95,
   "id": "4af8ef47",
   "metadata": {},
   "outputs": [],
   "source": [
    "def bl(w_prior, sigma_prior, p, q,\n",
    "                omega=None,\n",
    "                delta=2.5, tau=.02):\n",
    "    \"\"\"\n",
    "# Computes the posterior expected returns based on \n",
    "# the original black litterman reference model\n",
    "#\n",
    "# W.prior must be an N x 1 vector of weights, a Series\n",
    "# Sigma.prior is an N x N covariance matrix, a DataFrame\n",
    "# P must be a K x N matrix linking Q and the Assets, a DataFrame\n",
    "# Q must be an K x 1 vector of views, a Series\n",
    "# Omega must be a K x K matrix a DataFrame, or None\n",
    "# if Omega is None, we assume it is\n",
    "#    proportional to variance of the prior\n",
    "# delta and tau are scalars\n",
    "    \"\"\"\n",
    "    if omega is None:\n",
    "        omega = proportional_prior(sigma_prior, tau, p)\n",
    "    # Force w.prior and Q to be column vectors\n",
    "    # How many assets do we have?\n",
    "    N = w_prior.shape[0]\n",
    "    # And how many views?\n",
    "    K = q.shape[0]\n",
    "    # First, reverse-engineer the weights to get pi\n",
    "    pi = implied_returns(sigma_prior,  w_prior, delta)\n",
    "    # Adjust (scale) Sigma by the uncertainty scaling factor\n",
    "    sigma_prior_scaled = tau * sigma_prior  \n",
    "    # posterior estimate of the mean, use the \"Master Formula\"\n",
    "    # we use the versions that do not require\n",
    "    # Omega to be inverted (see previous section)\n",
    "    # this is easier to read if we use '@' for matrixmult instead of .dot()\n",
    "    #     mu_bl = pi + sigma_prior_scaled @ p.T @ inv(p @ sigma_prior_scaled @ p.T + omega) @ (q - p @ pi)\n",
    "    mu_bl = pi + sigma_prior_scaled.dot(p.T).dot(inv(p.dot(sigma_prior_scaled).dot(p.T) + omega).dot(q - p.dot(pi).values))\n",
    "    # posterior estimate of uncertainty of mu.bl\n",
    "#     sigma_bl = sigma_prior + sigma_prior_scaled - sigma_prior_scaled @ p.T @ inv(p @ sigma_prior_scaled @ p.T + omega) @ p @ sigma_prior_scaled\n",
    "    sigma_bl = sigma_prior + sigma_prior_scaled - sigma_prior_scaled.dot(p.T).dot(inv(p.dot(sigma_prior_scaled).dot(p.T) + omega)).dot(p).dot(sigma_prior_scaled)\n",
    "    return (mu_bl, sigma_bl)\n"
   ]
  },
  {
   "cell_type": "markdown",
   "id": "6c3e2a60",
   "metadata": {},
   "source": [
    "Q1. Which industry sector has the highest capweight"
   ]
  },
  {
   "cell_type": "code",
   "execution_count": 6,
   "id": "ee1ec8c8",
   "metadata": {},
   "outputs": [
    {
     "data": {
      "text/plain": [
       "Hlth     0.005509\n",
       "Fin      0.024322\n",
       "Whlsl    0.013014\n",
       "Rtail    0.070239\n",
       "Food     0.017237\n",
       "dtype: float64"
      ]
     },
     "execution_count": 6,
     "metadata": {},
     "output_type": "execute_result"
    }
   ],
   "source": [
    "ind49_mcap.mean()"
   ]
  },
  {
   "cell_type": "markdown",
   "id": "a7c0d8a4",
   "metadata": {},
   "source": [
    "Q2. Which industry sector has the highest implied return?  \n",
    "Q3. Which industry sector has the lowest implied return?"
   ]
  },
  {
   "cell_type": "code",
   "execution_count": 128,
   "id": "2d479541",
   "metadata": {},
   "outputs": [
    {
     "data": {
      "text/plain": [
       "Hlth     0.152910\n",
       "Fin      0.175580\n",
       "Whlsl    0.201836\n",
       "Rtail    0.224827\n",
       "Food     0.158115\n",
       "Name: Implied return, dtype: float64"
      ]
     },
     "execution_count": 128,
     "metadata": {},
     "output_type": "execute_result"
    }
   ],
   "source": [
    "IRs = implied_return(sigma_prior_, weights.T)\n",
    "IRs"
   ]
  },
  {
   "cell_type": "markdown",
   "id": "e5d53c6b",
   "metadata": {},
   "source": [
    "Q4 - Q6. Impose the subjective relative view that Hlth will outperform Rtail and Whlsl by 3%  (Hint: Use the same logic as View 1 in the He-Litterman paper)"
   ]
  },
  {
   "cell_type": "code",
   "execution_count": 129,
   "id": "915f4228",
   "metadata": {},
   "outputs": [
    {
     "data": {
      "text/html": [
       "<div>\n",
       "<style scoped>\n",
       "    .dataframe tbody tr th:only-of-type {\n",
       "        vertical-align: middle;\n",
       "    }\n",
       "\n",
       "    .dataframe tbody tr th {\n",
       "        vertical-align: top;\n",
       "    }\n",
       "\n",
       "    .dataframe thead th {\n",
       "        text-align: right;\n",
       "    }\n",
       "</style>\n",
       "<table border=\"1\" class=\"dataframe\">\n",
       "  <thead>\n",
       "    <tr style=\"text-align: right;\">\n",
       "      <th></th>\n",
       "      <th>Hlth</th>\n",
       "      <th>Fin</th>\n",
       "      <th>Whlsl</th>\n",
       "      <th>Rtail</th>\n",
       "      <th>Food</th>\n",
       "    </tr>\n",
       "  </thead>\n",
       "  <tbody>\n",
       "    <tr>\n",
       "      <th>0</th>\n",
       "      <td>100.0</td>\n",
       "      <td>0.0</td>\n",
       "      <td>-15.130614</td>\n",
       "      <td>-84.869386</td>\n",
       "      <td>0.0</td>\n",
       "    </tr>\n",
       "  </tbody>\n",
       "</table>\n",
       "</div>"
      ],
      "text/plain": [
       "    Hlth  Fin      Whlsl      Rtail  Food\n",
       "0  100.0  0.0 -15.130614 -84.869386   0.0"
      ]
     },
     "execution_count": 129,
     "metadata": {},
     "output_type": "execute_result"
    }
   ],
   "source": [
    "# relative view\n",
    "q = pd.Series([\n",
    "    0.03\n",
    "    ]\n",
    ")\n",
    "p = pd.DataFrame([0.]*len(inds), index = inds).T\n",
    "w_rtail = weights['Rtail'][0] / (weights['Rtail'][0] + weights['Whlsl'][0])\n",
    "w_whlsl = weights['Whlsl'][0] / (weights['Rtail'][0] + weights['Whlsl'][0])\n",
    "p.iloc[0]['Hlth'] = 1.\n",
    "p.iloc[0]['Rtail'] = -w_rtail\n",
    "p.iloc[0]['Whlsl'] = -w_whlsl\n",
    "p*100"
   ]
  },
  {
   "cell_type": "code",
   "execution_count": 130,
   "id": "2fd05d2c",
   "metadata": {},
   "outputs": [
    {
     "data": {
      "text/plain": [
       "Hlth     18.0\n",
       "Fin      16.9\n",
       "Whlsl    19.3\n",
       "Rtail    20.0\n",
       "Food     14.5\n",
       "dtype: float64"
      ]
     },
     "execution_count": 130,
     "metadata": {},
     "output_type": "execute_result"
    }
   ],
   "source": [
    "delta = 2.5\n",
    "tau = 0.05\n",
    "bl_mu, bl_sigma = bl(weights.T, sigma_prior_, p, q, delta = delta, tau = tau)\n",
    "(bl_mu*100).round(1)"
   ]
  },
  {
   "cell_type": "code",
   "execution_count": 131,
   "id": "f00ce864",
   "metadata": {},
   "outputs": [
    {
     "data": {
      "text/plain": [
       "Hlth     0.263700\n",
       "Fin      0.167011\n",
       "Whlsl    0.058876\n",
       "Rtail    0.330244\n",
       "Food     0.132549\n",
       "dtype: float64"
      ]
     },
     "execution_count": 131,
     "metadata": {},
     "output_type": "execute_result"
    }
   ],
   "source": [
    "def w_star(delta, sigma, mu):\n",
    "    return (inverse(sigma).dot(mu))/delta\n",
    "\n",
    "w_star(delta=2.5, sigma=bl_sigma, mu=bl_mu)"
   ]
  },
  {
   "cell_type": "code",
   "execution_count": 132,
   "id": "f6302955",
   "metadata": {},
   "outputs": [
    {
     "data": {
      "text/plain": [
       "Hlth     0.276885\n",
       "Fin      0.175362\n",
       "Whlsl    0.061820\n",
       "Rtail    0.346756\n",
       "Food     0.139176\n",
       "dtype: float64"
      ]
     },
     "execution_count": 132,
     "metadata": {},
     "output_type": "execute_result"
    }
   ],
   "source": [
    "w_msr(bl_sigma, bl_mu)"
   ]
  },
  {
   "cell_type": "code",
   "execution_count": 133,
   "id": "e5f651d3",
   "metadata": {},
   "outputs": [
    {
     "data": {
      "text/plain": [
       "Hlth     18.5\n",
       "Fin      16.8\n",
       "Whlsl    19.2\n",
       "Rtail    19.5\n",
       "Food     14.3\n",
       "dtype: float64"
      ]
     },
     "execution_count": 133,
     "metadata": {},
     "output_type": "execute_result"
    }
   ],
   "source": [
    "# relative view\n",
    "q = pd.Series([\n",
    "    0.05\n",
    "    ]\n",
    ")\n",
    "bl_mu, bl_sigma = bl(weights.T, sigma_prior_, p, q, tau = 0.05)\n",
    "(bl_mu*100).round(1)"
   ]
  },
  {
   "cell_type": "code",
   "execution_count": 107,
   "id": "6f2bf7be",
   "metadata": {},
   "outputs": [
    {
     "data": {
      "text/plain": [
       "Hlth     14.2\n",
       "Fin       2.1\n",
       "Whlsl    -0.9\n",
       "Rtail    -5.1\n",
       "Food      1.7\n",
       "dtype: float64"
      ]
     },
     "execution_count": 107,
     "metadata": {},
     "output_type": "execute_result"
    }
   ],
   "source": [
    "wstar = w_star(delta=2.5, sigma=bl_sigma, mu=bl_mu)\n",
    "# display w*\n",
    "(wstar*100).round(1)"
   ]
  },
  {
   "cell_type": "code",
   "execution_count": null,
   "id": "144b2868",
   "metadata": {},
   "outputs": [],
   "source": []
  }
 ],
 "metadata": {
  "kernelspec": {
   "display_name": "Python 3",
   "language": "python",
   "name": "python3"
  },
  "language_info": {
   "codemirror_mode": {
    "name": "ipython",
    "version": 3
   },
   "file_extension": ".py",
   "mimetype": "text/x-python",
   "name": "python",
   "nbconvert_exporter": "python",
   "pygments_lexer": "ipython3",
   "version": "3.8.8"
  }
 },
 "nbformat": 4,
 "nbformat_minor": 5
}
