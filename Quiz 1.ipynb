{
 "cells": [
  {
   "cell_type": "code",
   "execution_count": 8,
   "metadata": {},
   "outputs": [],
   "source": [
    "import numpy as np\n",
    "import pandas as pd\n",
    "import statsmodels.api as sm\n",
    "\n",
    "import edhec_risk_kit_204 as erk_204\n",
    "import edhec_risk_kit_201 as erk_201"
   ]
  },
  {
   "cell_type": "code",
   "execution_count": 5,
   "metadata": {},
   "outputs": [],
   "source": [
    "ind49_ret = erk_204.get_ind_returns(weighting=\"vw\", n_inds=49)\n",
    "ind49_ret = ind49_ret[\"1991\":\"2018\"]\n",
    "\n",
    "ind49_mcap = erk_204.get_ind_market_caps(49, weights=True)[\"1991\":\"2018\"]"
   ]
  },
  {
   "cell_type": "code",
   "execution_count": 6,
   "metadata": {},
   "outputs": [
    {
     "data": {
      "text/html": [
       "<div>\n",
       "<style scoped>\n",
       "    .dataframe tbody tr th:only-of-type {\n",
       "        vertical-align: middle;\n",
       "    }\n",
       "\n",
       "    .dataframe tbody tr th {\n",
       "        vertical-align: top;\n",
       "    }\n",
       "\n",
       "    .dataframe thead th {\n",
       "        text-align: right;\n",
       "    }\n",
       "</style>\n",
       "<table border=\"1\" class=\"dataframe\">\n",
       "  <thead>\n",
       "    <tr style=\"text-align: right;\">\n",
       "      <th></th>\n",
       "      <th>Mkt-RF</th>\n",
       "      <th>SMB</th>\n",
       "      <th>HML</th>\n",
       "      <th>RF</th>\n",
       "    </tr>\n",
       "  </thead>\n",
       "  <tbody>\n",
       "    <tr>\n",
       "      <th>1926-07</th>\n",
       "      <td>0.0296</td>\n",
       "      <td>-0.0230</td>\n",
       "      <td>-0.0287</td>\n",
       "      <td>0.0022</td>\n",
       "    </tr>\n",
       "    <tr>\n",
       "      <th>1926-08</th>\n",
       "      <td>0.0264</td>\n",
       "      <td>-0.0140</td>\n",
       "      <td>0.0419</td>\n",
       "      <td>0.0025</td>\n",
       "    </tr>\n",
       "    <tr>\n",
       "      <th>1926-09</th>\n",
       "      <td>0.0036</td>\n",
       "      <td>-0.0132</td>\n",
       "      <td>0.0001</td>\n",
       "      <td>0.0023</td>\n",
       "    </tr>\n",
       "    <tr>\n",
       "      <th>1926-10</th>\n",
       "      <td>-0.0324</td>\n",
       "      <td>0.0004</td>\n",
       "      <td>0.0051</td>\n",
       "      <td>0.0032</td>\n",
       "    </tr>\n",
       "    <tr>\n",
       "      <th>1926-11</th>\n",
       "      <td>0.0253</td>\n",
       "      <td>-0.0020</td>\n",
       "      <td>-0.0035</td>\n",
       "      <td>0.0031</td>\n",
       "    </tr>\n",
       "  </tbody>\n",
       "</table>\n",
       "</div>"
      ],
      "text/plain": [
       "         Mkt-RF     SMB     HML      RF\n",
       "1926-07  0.0296 -0.0230 -0.0287  0.0022\n",
       "1926-08  0.0264 -0.0140  0.0419  0.0025\n",
       "1926-09  0.0036 -0.0132  0.0001  0.0023\n",
       "1926-10 -0.0324  0.0004  0.0051  0.0032\n",
       "1926-11  0.0253 -0.0020 -0.0035  0.0031"
      ]
     },
     "execution_count": 6,
     "metadata": {},
     "output_type": "execute_result"
    }
   ],
   "source": [
    "fff = erk_201.get_fff_returns()\n",
    "fff.head()"
   ]
  },
  {
   "cell_type": "code",
   "execution_count": 7,
   "metadata": {},
   "outputs": [],
   "source": [
    "def get_CAPM_coef(ret, fff, start, end):\n",
    "    excess_ret = ret.values - fff.loc[start:end, ['RF']].values.reshape(-1)\n",
    "    mkt_excess = fff.loc[start:end,['Mkt-RF']]\n",
    "    exp_var = mkt_excess.copy()\n",
    "    exp_var[\"Constant\"] = 1\n",
    "    model = sm.OLS(excess_ret, exp_var).fit()\n",
    "    return model.params[0]    "
   ]
  },
  {
   "cell_type": "markdown",
   "metadata": {},
   "source": [
    "### 1."
   ]
  },
  {
   "cell_type": "code",
   "execution_count": 10,
   "metadata": {},
   "outputs": [
    {
     "data": {
      "text/plain": [
       "0.5295417263363027"
      ]
     },
     "execution_count": 10,
     "metadata": {},
     "output_type": "execute_result"
    }
   ],
   "source": [
    "beer_ret = ind49_ret['Beer']\n",
    "get_CAPM_coef(beer_ret, fff, \"1991\", \"2018\")"
   ]
  },
  {
   "cell_type": "markdown",
   "metadata": {},
   "source": [
    "### 2."
   ]
  },
  {
   "cell_type": "code",
   "execution_count": 11,
   "metadata": {},
   "outputs": [
    {
     "data": {
      "text/plain": [
       "1.554609599808529"
      ]
     },
     "execution_count": 11,
     "metadata": {},
     "output_type": "execute_result"
    }
   ],
   "source": [
    "steel_ret = ind49_ret['Steel']\n",
    "get_CAPM_coef(steel_ret, fff, \"1991\", \"2018\")"
   ]
  },
  {
   "cell_type": "markdown",
   "metadata": {},
   "source": [
    "### 3."
   ]
  },
  {
   "cell_type": "code",
   "execution_count": 12,
   "metadata": {},
   "outputs": [
    {
     "data": {
      "text/plain": [
       "0.585960389056597"
      ]
     },
     "execution_count": 12,
     "metadata": {},
     "output_type": "execute_result"
    }
   ],
   "source": [
    "beer_ret_2 = ind49_ret['Beer'][\"2013\":\"2018\"]\n",
    "get_CAPM_coef(beer_ret_2, fff, \"2013\", \"2018\")"
   ]
  },
  {
   "cell_type": "markdown",
   "metadata": {},
   "source": [
    "#### 4."
   ]
  },
  {
   "cell_type": "code",
   "execution_count": 13,
   "metadata": {},
   "outputs": [
    {
     "data": {
      "text/plain": [
       "1.4169446523353808"
      ]
     },
     "execution_count": 13,
     "metadata": {},
     "output_type": "execute_result"
    }
   ],
   "source": [
    "steel_ret_2 = ind49_ret['Steel'][\"2013\":\"2018\"]\n",
    "get_CAPM_coef(steel_ret_2, fff, \"2013\", \"2018\")"
   ]
  },
  {
   "cell_type": "markdown",
   "metadata": {},
   "source": [
    "#### 5. & 6."
   ]
  },
  {
   "cell_type": "code",
   "execution_count": 14,
   "metadata": {},
   "outputs": [
    {
     "data": {
      "text/html": [
       "<div>\n",
       "<style scoped>\n",
       "    .dataframe tbody tr th:only-of-type {\n",
       "        vertical-align: middle;\n",
       "    }\n",
       "\n",
       "    .dataframe tbody tr th {\n",
       "        vertical-align: top;\n",
       "    }\n",
       "\n",
       "    .dataframe thead th {\n",
       "        text-align: right;\n",
       "    }\n",
       "</style>\n",
       "<table border=\"1\" class=\"dataframe\">\n",
       "  <thead>\n",
       "    <tr style=\"text-align: right;\">\n",
       "      <th></th>\n",
       "      <th>Index</th>\n",
       "      <th>Coef</th>\n",
       "    </tr>\n",
       "  </thead>\n",
       "  <tbody>\n",
       "    <tr>\n",
       "      <th>26</th>\n",
       "      <td>Gold</td>\n",
       "      <td>-0.553289</td>\n",
       "    </tr>\n",
       "    <tr>\n",
       "      <th>27</th>\n",
       "      <td>Mines</td>\n",
       "      <td>0.274762</td>\n",
       "    </tr>\n",
       "    <tr>\n",
       "      <th>30</th>\n",
       "      <td>Util</td>\n",
       "      <td>0.379527</td>\n",
       "    </tr>\n",
       "    <tr>\n",
       "      <th>28</th>\n",
       "      <td>Coal</td>\n",
       "      <td>0.529958</td>\n",
       "    </tr>\n",
       "    <tr>\n",
       "      <th>29</th>\n",
       "      <td>Oil</td>\n",
       "      <td>0.550604</td>\n",
       "    </tr>\n",
       "  </tbody>\n",
       "</table>\n",
       "</div>"
      ],
      "text/plain": [
       "    Index      Coef\n",
       "26   Gold -0.553289\n",
       "27  Mines  0.274762\n",
       "30   Util  0.379527\n",
       "28   Coal  0.529958\n",
       "29    Oil  0.550604"
      ]
     },
     "execution_count": 14,
     "metadata": {},
     "output_type": "execute_result"
    }
   ],
   "source": [
    "cols = ind49_ret.columns\n",
    "coefs = []\n",
    "start = \"1991\"\n",
    "end = \"1993\"\n",
    "for c in cols:\n",
    "    # 1991-1993 (both included) period\n",
    "    c_ret = ind49_ret[c][start:end]\n",
    "    coefs.append(get_CAPM_coef(c_ret, fff, start, end))\n",
    "\n",
    "out = pd.DataFrame({'Index':cols, \"Coef\": coefs})\n",
    "out.sort_values('Coef', ascending = True).head()"
   ]
  },
  {
   "cell_type": "code",
   "execution_count": 19,
   "metadata": {},
   "outputs": [
    {
     "data": {
      "text/html": [
       "<div>\n",
       "<style scoped>\n",
       "    .dataframe tbody tr th:only-of-type {\n",
       "        vertical-align: middle;\n",
       "    }\n",
       "\n",
       "    .dataframe tbody tr th {\n",
       "        vertical-align: top;\n",
       "    }\n",
       "\n",
       "    .dataframe thead th {\n",
       "        text-align: right;\n",
       "    }\n",
       "</style>\n",
       "<table border=\"1\" class=\"dataframe\">\n",
       "  <thead>\n",
       "    <tr style=\"text-align: right;\">\n",
       "      <th></th>\n",
       "      <th>Index</th>\n",
       "      <th>Coef</th>\n",
       "    </tr>\n",
       "  </thead>\n",
       "  <tbody>\n",
       "    <tr>\n",
       "      <th>10</th>\n",
       "      <td>Hlth</td>\n",
       "      <td>1.615195</td>\n",
       "    </tr>\n",
       "    <tr>\n",
       "      <th>35</th>\n",
       "      <td>Softw</td>\n",
       "      <td>1.608340</td>\n",
       "    </tr>\n",
       "    <tr>\n",
       "      <th>17</th>\n",
       "      <td>Cnstr</td>\n",
       "      <td>1.520882</td>\n",
       "    </tr>\n",
       "    <tr>\n",
       "      <th>9</th>\n",
       "      <td>Clths</td>\n",
       "      <td>1.516927</td>\n",
       "    </tr>\n",
       "    <tr>\n",
       "      <th>11</th>\n",
       "      <td>MedEq</td>\n",
       "      <td>1.473925</td>\n",
       "    </tr>\n",
       "  </tbody>\n",
       "</table>\n",
       "</div>"
      ],
      "text/plain": [
       "    Index      Coef\n",
       "10   Hlth  1.615195\n",
       "35  Softw  1.608340\n",
       "17  Cnstr  1.520882\n",
       "9   Clths  1.516927\n",
       "11  MedEq  1.473925"
      ]
     },
     "execution_count": 19,
     "metadata": {},
     "output_type": "execute_result"
    }
   ],
   "source": [
    "out.sort_values('Coef', ascending = False).head()"
   ]
  },
  {
   "cell_type": "markdown",
   "metadata": {},
   "source": [
    "#### 7.\n",
    "\n",
    "For the next 4 questions use the Full 3 Factor Fama-French model using the research data supplied in the following data file:\n",
    "F-F_Research_Data_Factors.csv\n",
    "and the same 1991-2018 period you have just used for the previous questions.    \n",
    "Of the 49 industries, which displayed the highest Small Cap tilt when analyzed over the entire 1991-2018 period?"
   ]
  },
  {
   "cell_type": "code",
   "execution_count": 20,
   "metadata": {},
   "outputs": [
    {
     "data": {
      "text/html": [
       "<div>\n",
       "<style scoped>\n",
       "    .dataframe tbody tr th:only-of-type {\n",
       "        vertical-align: middle;\n",
       "    }\n",
       "\n",
       "    .dataframe tbody tr th {\n",
       "        vertical-align: top;\n",
       "    }\n",
       "\n",
       "    .dataframe thead th {\n",
       "        text-align: right;\n",
       "    }\n",
       "</style>\n",
       "<table border=\"1\" class=\"dataframe\">\n",
       "  <thead>\n",
       "    <tr style=\"text-align: right;\">\n",
       "      <th></th>\n",
       "      <th>Mkt-RF</th>\n",
       "      <th>SMB</th>\n",
       "      <th>HML</th>\n",
       "      <th>RF</th>\n",
       "    </tr>\n",
       "  </thead>\n",
       "  <tbody>\n",
       "    <tr>\n",
       "      <th>1991-01</th>\n",
       "      <td>0.0469</td>\n",
       "      <td>0.0379</td>\n",
       "      <td>-0.0184</td>\n",
       "      <td>0.0052</td>\n",
       "    </tr>\n",
       "    <tr>\n",
       "      <th>1991-02</th>\n",
       "      <td>0.0719</td>\n",
       "      <td>0.0395</td>\n",
       "      <td>-0.0054</td>\n",
       "      <td>0.0048</td>\n",
       "    </tr>\n",
       "    <tr>\n",
       "      <th>1991-03</th>\n",
       "      <td>0.0265</td>\n",
       "      <td>0.0389</td>\n",
       "      <td>-0.0123</td>\n",
       "      <td>0.0044</td>\n",
       "    </tr>\n",
       "    <tr>\n",
       "      <th>1991-04</th>\n",
       "      <td>-0.0028</td>\n",
       "      <td>0.0050</td>\n",
       "      <td>0.0142</td>\n",
       "      <td>0.0053</td>\n",
       "    </tr>\n",
       "    <tr>\n",
       "      <th>1991-05</th>\n",
       "      <td>0.0365</td>\n",
       "      <td>-0.0034</td>\n",
       "      <td>-0.0057</td>\n",
       "      <td>0.0047</td>\n",
       "    </tr>\n",
       "  </tbody>\n",
       "</table>\n",
       "</div>"
      ],
      "text/plain": [
       "         Mkt-RF     SMB     HML      RF\n",
       "1991-01  0.0469  0.0379 -0.0184  0.0052\n",
       "1991-02  0.0719  0.0395 -0.0054  0.0048\n",
       "1991-03  0.0265  0.0389 -0.0123  0.0044\n",
       "1991-04 -0.0028  0.0050  0.0142  0.0053\n",
       "1991-05  0.0365 -0.0034 -0.0057  0.0047"
      ]
     },
     "execution_count": 20,
     "metadata": {},
     "output_type": "execute_result"
    }
   ],
   "source": [
    "exp_var_2 = fff.loc[\"1991\":\"2018\"]\n",
    "exp_var_2.head()"
   ]
  },
  {
   "cell_type": "code",
   "execution_count": 21,
   "metadata": {},
   "outputs": [],
   "source": [
    "def get_FF_coef(ret, fff, start, end):\n",
    "    excess_ret = ret.values - fff.loc[start:end, ['RF']].values.reshape(-1)\n",
    "    mkt_excess = fff.loc[start:end]\n",
    "    exp_var = mkt_excess.copy()\n",
    "    exp_var[\"Constant\"] = 1\n",
    "    model = sm.OLS(excess_ret, exp_var).fit()\n",
    "#     print(model.params)\n",
    "    return model.params[1],  model.params[2]"
   ]
  },
  {
   "cell_type": "code",
   "execution_count": 22,
   "metadata": {},
   "outputs": [
    {
     "data": {
      "text/html": [
       "<div>\n",
       "<style scoped>\n",
       "    .dataframe tbody tr th:only-of-type {\n",
       "        vertical-align: middle;\n",
       "    }\n",
       "\n",
       "    .dataframe tbody tr th {\n",
       "        vertical-align: top;\n",
       "    }\n",
       "\n",
       "    .dataframe thead th {\n",
       "        text-align: right;\n",
       "    }\n",
       "</style>\n",
       "<table border=\"1\" class=\"dataframe\">\n",
       "  <thead>\n",
       "    <tr style=\"text-align: right;\">\n",
       "      <th></th>\n",
       "      <th>Index</th>\n",
       "      <th>SMB</th>\n",
       "      <th>HML</th>\n",
       "    </tr>\n",
       "  </thead>\n",
       "  <tbody>\n",
       "    <tr>\n",
       "      <th>19</th>\n",
       "      <td>FabPr</td>\n",
       "      <td>0.686027</td>\n",
       "      <td>0.496060</td>\n",
       "    </tr>\n",
       "    <tr>\n",
       "      <th>46</th>\n",
       "      <td>RlEst</td>\n",
       "      <td>0.680132</td>\n",
       "      <td>0.912121</td>\n",
       "    </tr>\n",
       "    <tr>\n",
       "      <th>28</th>\n",
       "      <td>Coal</td>\n",
       "      <td>0.544504</td>\n",
       "      <td>0.476809</td>\n",
       "    </tr>\n",
       "    <tr>\n",
       "      <th>15</th>\n",
       "      <td>Txtls</td>\n",
       "      <td>0.529438</td>\n",
       "      <td>0.997089</td>\n",
       "    </tr>\n",
       "    <tr>\n",
       "      <th>18</th>\n",
       "      <td>Steel</td>\n",
       "      <td>0.494700</td>\n",
       "      <td>0.315190</td>\n",
       "    </tr>\n",
       "  </tbody>\n",
       "</table>\n",
       "</div>"
      ],
      "text/plain": [
       "    Index       SMB       HML\n",
       "19  FabPr  0.686027  0.496060\n",
       "46  RlEst  0.680132  0.912121\n",
       "28   Coal  0.544504  0.476809\n",
       "15  Txtls  0.529438  0.997089\n",
       "18  Steel  0.494700  0.315190"
      ]
     },
     "execution_count": 22,
     "metadata": {},
     "output_type": "execute_result"
    }
   ],
   "source": [
    "SMB = []\n",
    "HML = []\n",
    "for c in cols:\n",
    "    # 1991-1993 (both included) period\n",
    "    c_ret = ind49_ret[c][\"1991\":\"2018\"]\n",
    "    SMB.append(get_FF_coef(c_ret, fff, \"1991\", \"2018\")[0])\n",
    "    HML.append(get_FF_coef(c_ret, fff, \"1991\", \"2018\")[1])\n",
    "\n",
    "out = pd.DataFrame({'Index':cols, \"SMB\": SMB, \"HML\":HML})\n",
    "out.sort_values('SMB', ascending = False).head()"
   ]
  },
  {
   "cell_type": "code",
   "execution_count": 23,
   "metadata": {},
   "outputs": [
    {
     "data": {
      "text/html": [
       "<div>\n",
       "<style scoped>\n",
       "    .dataframe tbody tr th:only-of-type {\n",
       "        vertical-align: middle;\n",
       "    }\n",
       "\n",
       "    .dataframe tbody tr th {\n",
       "        vertical-align: top;\n",
       "    }\n",
       "\n",
       "    .dataframe thead th {\n",
       "        text-align: right;\n",
       "    }\n",
       "</style>\n",
       "<table border=\"1\" class=\"dataframe\">\n",
       "  <thead>\n",
       "    <tr style=\"text-align: right;\">\n",
       "      <th></th>\n",
       "      <th>Index</th>\n",
       "      <th>SMB</th>\n",
       "      <th>HML</th>\n",
       "    </tr>\n",
       "  </thead>\n",
       "  <tbody>\n",
       "    <tr>\n",
       "      <th>3</th>\n",
       "      <td>Beer</td>\n",
       "      <td>-0.358381</td>\n",
       "      <td>0.005761</td>\n",
       "    </tr>\n",
       "    <tr>\n",
       "      <th>12</th>\n",
       "      <td>Drugs</td>\n",
       "      <td>-0.316796</td>\n",
       "      <td>-0.233712</td>\n",
       "    </tr>\n",
       "    <tr>\n",
       "      <th>4</th>\n",
       "      <td>Smoke</td>\n",
       "      <td>-0.309117</td>\n",
       "      <td>0.268762</td>\n",
       "    </tr>\n",
       "    <tr>\n",
       "      <th>1</th>\n",
       "      <td>Food</td>\n",
       "      <td>-0.268338</td>\n",
       "      <td>0.157499</td>\n",
       "    </tr>\n",
       "    <tr>\n",
       "      <th>45</th>\n",
       "      <td>Insur</td>\n",
       "      <td>-0.252436</td>\n",
       "      <td>0.572000</td>\n",
       "    </tr>\n",
       "  </tbody>\n",
       "</table>\n",
       "</div>"
      ],
      "text/plain": [
       "    Index       SMB       HML\n",
       "3    Beer -0.358381  0.005761\n",
       "12  Drugs -0.316796 -0.233712\n",
       "4   Smoke -0.309117  0.268762\n",
       "1    Food -0.268338  0.157499\n",
       "45  Insur -0.252436  0.572000"
      ]
     },
     "execution_count": 23,
     "metadata": {},
     "output_type": "execute_result"
    }
   ],
   "source": [
    "out.sort_values('SMB', ascending = True).head()"
   ]
  },
  {
   "cell_type": "code",
   "execution_count": 24,
   "metadata": {},
   "outputs": [
    {
     "data": {
      "text/html": [
       "<div>\n",
       "<style scoped>\n",
       "    .dataframe tbody tr th:only-of-type {\n",
       "        vertical-align: middle;\n",
       "    }\n",
       "\n",
       "    .dataframe tbody tr th {\n",
       "        vertical-align: top;\n",
       "    }\n",
       "\n",
       "    .dataframe thead th {\n",
       "        text-align: right;\n",
       "    }\n",
       "</style>\n",
       "<table border=\"1\" class=\"dataframe\">\n",
       "  <thead>\n",
       "    <tr style=\"text-align: right;\">\n",
       "      <th></th>\n",
       "      <th>Index</th>\n",
       "      <th>SMB</th>\n",
       "      <th>HML</th>\n",
       "    </tr>\n",
       "  </thead>\n",
       "  <tbody>\n",
       "    <tr>\n",
       "      <th>15</th>\n",
       "      <td>Txtls</td>\n",
       "      <td>0.529438</td>\n",
       "      <td>0.997089</td>\n",
       "    </tr>\n",
       "    <tr>\n",
       "      <th>46</th>\n",
       "      <td>RlEst</td>\n",
       "      <td>0.680132</td>\n",
       "      <td>0.912121</td>\n",
       "    </tr>\n",
       "    <tr>\n",
       "      <th>44</th>\n",
       "      <td>Banks</td>\n",
       "      <td>-0.186368</td>\n",
       "      <td>0.835839</td>\n",
       "    </tr>\n",
       "    <tr>\n",
       "      <th>22</th>\n",
       "      <td>Autos</td>\n",
       "      <td>0.203058</td>\n",
       "      <td>0.803970</td>\n",
       "    </tr>\n",
       "    <tr>\n",
       "      <th>24</th>\n",
       "      <td>Ships</td>\n",
       "      <td>0.162210</td>\n",
       "      <td>0.783453</td>\n",
       "    </tr>\n",
       "  </tbody>\n",
       "</table>\n",
       "</div>"
      ],
      "text/plain": [
       "    Index       SMB       HML\n",
       "15  Txtls  0.529438  0.997089\n",
       "46  RlEst  0.680132  0.912121\n",
       "44  Banks -0.186368  0.835839\n",
       "22  Autos  0.203058  0.803970\n",
       "24  Ships  0.162210  0.783453"
      ]
     },
     "execution_count": 24,
     "metadata": {},
     "output_type": "execute_result"
    }
   ],
   "source": [
    "out.sort_values('HML', ascending = False).head()"
   ]
  },
  {
   "cell_type": "code",
   "execution_count": 25,
   "metadata": {},
   "outputs": [
    {
     "data": {
      "text/html": [
       "<div>\n",
       "<style scoped>\n",
       "    .dataframe tbody tr th:only-of-type {\n",
       "        vertical-align: middle;\n",
       "    }\n",
       "\n",
       "    .dataframe tbody tr th {\n",
       "        vertical-align: top;\n",
       "    }\n",
       "\n",
       "    .dataframe thead th {\n",
       "        text-align: right;\n",
       "    }\n",
       "</style>\n",
       "<table border=\"1\" class=\"dataframe\">\n",
       "  <thead>\n",
       "    <tr style=\"text-align: right;\">\n",
       "      <th></th>\n",
       "      <th>Index</th>\n",
       "      <th>SMB</th>\n",
       "      <th>HML</th>\n",
       "    </tr>\n",
       "  </thead>\n",
       "  <tbody>\n",
       "    <tr>\n",
       "      <th>35</th>\n",
       "      <td>Softw</td>\n",
       "      <td>0.071591</td>\n",
       "      <td>-0.863809</td>\n",
       "    </tr>\n",
       "    <tr>\n",
       "      <th>34</th>\n",
       "      <td>Hardw</td>\n",
       "      <td>0.201481</td>\n",
       "      <td>-0.698151</td>\n",
       "    </tr>\n",
       "    <tr>\n",
       "      <th>36</th>\n",
       "      <td>Chips</td>\n",
       "      <td>0.322006</td>\n",
       "      <td>-0.604432</td>\n",
       "    </tr>\n",
       "    <tr>\n",
       "      <th>37</th>\n",
       "      <td>LabEq</td>\n",
       "      <td>0.465954</td>\n",
       "      <td>-0.262712</td>\n",
       "    </tr>\n",
       "    <tr>\n",
       "      <th>12</th>\n",
       "      <td>Drugs</td>\n",
       "      <td>-0.316796</td>\n",
       "      <td>-0.233712</td>\n",
       "    </tr>\n",
       "  </tbody>\n",
       "</table>\n",
       "</div>"
      ],
      "text/plain": [
       "    Index       SMB       HML\n",
       "35  Softw  0.071591 -0.863809\n",
       "34  Hardw  0.201481 -0.698151\n",
       "36  Chips  0.322006 -0.604432\n",
       "37  LabEq  0.465954 -0.262712\n",
       "12  Drugs -0.316796 -0.233712"
      ]
     },
     "execution_count": 25,
     "metadata": {},
     "output_type": "execute_result"
    }
   ],
   "source": [
    "out.sort_values('HML', ascending = True).head()"
   ]
  },
  {
   "cell_type": "code",
   "execution_count": null,
   "metadata": {},
   "outputs": [],
   "source": []
  }
 ],
 "metadata": {
  "kernelspec": {
   "display_name": "Python 3",
   "language": "python",
   "name": "python3"
  },
  "language_info": {
   "codemirror_mode": {
    "name": "ipython",
    "version": 3
   },
   "file_extension": ".py",
   "mimetype": "text/x-python",
   "name": "python",
   "nbconvert_exporter": "python",
   "pygments_lexer": "ipython3",
   "version": "3.8.8"
  }
 },
 "nbformat": 4,
 "nbformat_minor": 4
}
